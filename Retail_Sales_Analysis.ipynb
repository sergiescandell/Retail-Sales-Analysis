{
 "cells": [
  {
   "cell_type": "markdown",
   "metadata": {},
   "source": [
    "# Assignment Final\n",
    "Los datos que se incluyen en el fichero `datos_ventas_centros_comerciales.csv` representan casi 100.000 compra-ventas realizadas en un grupo de Centros Comerciales durantes los años 2021, 2022 y 2023.\n",
    "\n",
    "Como analista del holding propietario de los centros comerciales realiza un analisis respondiendo a las siguiente preguntas."
   ]
  },
  {
   "cell_type": "code",
   "execution_count": 2,
   "metadata": {},
   "outputs": [
    {
     "data": {
      "text/html": [
       "<div>\n",
       "<style scoped>\n",
       "    .dataframe tbody tr th:only-of-type {\n",
       "        vertical-align: middle;\n",
       "    }\n",
       "\n",
       "    .dataframe tbody tr th {\n",
       "        vertical-align: top;\n",
       "    }\n",
       "\n",
       "    .dataframe thead th {\n",
       "        text-align: right;\n",
       "    }\n",
       "</style>\n",
       "<table border=\"1\" class=\"dataframe\">\n",
       "  <thead>\n",
       "    <tr style=\"text-align: right;\">\n",
       "      <th></th>\n",
       "      <th>customer_id</th>\n",
       "      <th>category</th>\n",
       "      <th>quantity</th>\n",
       "      <th>price</th>\n",
       "      <th>invoice_date</th>\n",
       "      <th>shopping_mall</th>\n",
       "    </tr>\n",
       "    <tr>\n",
       "      <th>invoice_no</th>\n",
       "      <th></th>\n",
       "      <th></th>\n",
       "      <th></th>\n",
       "      <th></th>\n",
       "      <th></th>\n",
       "      <th></th>\n",
       "    </tr>\n",
       "  </thead>\n",
       "  <tbody>\n",
       "    <tr>\n",
       "      <th>I138884</th>\n",
       "      <td>C241288</td>\n",
       "      <td>Clothing</td>\n",
       "      <td>5</td>\n",
       "      <td>8172.24</td>\n",
       "      <td>05-08-2022</td>\n",
       "      <td>Kanyon</td>\n",
       "    </tr>\n",
       "    <tr>\n",
       "      <th>I317333</th>\n",
       "      <td>C111565</td>\n",
       "      <td>Shoes</td>\n",
       "      <td>3</td>\n",
       "      <td>8868.64</td>\n",
       "      <td>12-12-2021</td>\n",
       "      <td>Forum Istanbul</td>\n",
       "    </tr>\n",
       "    <tr>\n",
       "      <th>I127801</th>\n",
       "      <td>C266599</td>\n",
       "      <td>Clothing</td>\n",
       "      <td>1</td>\n",
       "      <td>4863.95</td>\n",
       "      <td>09-11-2021</td>\n",
       "      <td>Metrocity</td>\n",
       "    </tr>\n",
       "    <tr>\n",
       "      <th>I173702</th>\n",
       "      <td>C988172</td>\n",
       "      <td>Shoes</td>\n",
       "      <td>5</td>\n",
       "      <td>711.48</td>\n",
       "      <td>16-05-2021</td>\n",
       "      <td>Metropol AVM</td>\n",
       "    </tr>\n",
       "    <tr>\n",
       "      <th>I337046</th>\n",
       "      <td>C189076</td>\n",
       "      <td>Books</td>\n",
       "      <td>4</td>\n",
       "      <td>1110.32</td>\n",
       "      <td>24-10-2021</td>\n",
       "      <td>Kanyon</td>\n",
       "    </tr>\n",
       "    <tr>\n",
       "      <th>...</th>\n",
       "      <td>...</td>\n",
       "      <td>...</td>\n",
       "      <td>...</td>\n",
       "      <td>...</td>\n",
       "      <td>...</td>\n",
       "      <td>...</td>\n",
       "    </tr>\n",
       "    <tr>\n",
       "      <th>I219422</th>\n",
       "      <td>C441542</td>\n",
       "      <td>Souvenir</td>\n",
       "      <td>5</td>\n",
       "      <td>6692.42</td>\n",
       "      <td>21-09-2022</td>\n",
       "      <td>Kanyon</td>\n",
       "    </tr>\n",
       "    <tr>\n",
       "      <th>I325143</th>\n",
       "      <td>C569580</td>\n",
       "      <td>Food &amp; Beverage</td>\n",
       "      <td>2</td>\n",
       "      <td>8397.24</td>\n",
       "      <td>22-09-2021</td>\n",
       "      <td>Forum Istanbul</td>\n",
       "    </tr>\n",
       "    <tr>\n",
       "      <th>I824010</th>\n",
       "      <td>C103292</td>\n",
       "      <td>Food &amp; Beverage</td>\n",
       "      <td>2</td>\n",
       "      <td>3253.27</td>\n",
       "      <td>28-03-2021</td>\n",
       "      <td>Metrocity</td>\n",
       "    </tr>\n",
       "    <tr>\n",
       "      <th>I702964</th>\n",
       "      <td>C800631</td>\n",
       "      <td>Technology</td>\n",
       "      <td>4</td>\n",
       "      <td>6626.41</td>\n",
       "      <td>16-03-2021</td>\n",
       "      <td>Istinye Park</td>\n",
       "    </tr>\n",
       "    <tr>\n",
       "      <th>I232867</th>\n",
       "      <td>C273973</td>\n",
       "      <td>Souvenir</td>\n",
       "      <td>3</td>\n",
       "      <td>6224.72</td>\n",
       "      <td>15-10-2022</td>\n",
       "      <td>Mall of Istanbul</td>\n",
       "    </tr>\n",
       "  </tbody>\n",
       "</table>\n",
       "<p>99457 rows × 6 columns</p>\n",
       "</div>"
      ],
      "text/plain": [
       "           customer_id         category  quantity    price invoice_date  \\\n",
       "invoice_no                                                                \n",
       "I138884        C241288         Clothing         5  8172.24   05-08-2022   \n",
       "I317333        C111565            Shoes         3  8868.64   12-12-2021   \n",
       "I127801        C266599         Clothing         1  4863.95   09-11-2021   \n",
       "I173702        C988172            Shoes         5   711.48   16-05-2021   \n",
       "I337046        C189076            Books         4  1110.32   24-10-2021   \n",
       "...                ...              ...       ...      ...          ...   \n",
       "I219422        C441542         Souvenir         5  6692.42   21-09-2022   \n",
       "I325143        C569580  Food & Beverage         2  8397.24   22-09-2021   \n",
       "I824010        C103292  Food & Beverage         2  3253.27   28-03-2021   \n",
       "I702964        C800631       Technology         4  6626.41   16-03-2021   \n",
       "I232867        C273973         Souvenir         3  6224.72   15-10-2022   \n",
       "\n",
       "               shopping_mall  \n",
       "invoice_no                    \n",
       "I138884               Kanyon  \n",
       "I317333       Forum Istanbul  \n",
       "I127801            Metrocity  \n",
       "I173702         Metropol AVM  \n",
       "I337046               Kanyon  \n",
       "...                      ...  \n",
       "I219422               Kanyon  \n",
       "I325143       Forum Istanbul  \n",
       "I824010            Metrocity  \n",
       "I702964         Istinye Park  \n",
       "I232867     Mall of Istanbul  \n",
       "\n",
       "[99457 rows x 6 columns]"
      ]
     },
     "execution_count": 2,
     "metadata": {},
     "output_type": "execute_result"
    }
   ],
   "source": [
    "import pandas as pd\n",
    "df = pd.read_csv(\"datos_ventas_centros_comerciales.csv\", index_col = \"invoice_no\")"
   ]
  },
  {
   "cell_type": "markdown",
   "metadata": {},
   "source": [
    "# 1. ¿Cuál es el total de ingresos generados por todas las ventas registradas?\n",
    "Guarda el resultado en una variable llamada `total_ingresos`\n",
    "\n"
   ]
  },
  {
   "cell_type": "code",
   "execution_count": 2,
   "metadata": {},
   "outputs": [],
   "source": [
    "df[\"total_price\"] = df[\"price\"] * df[\"quantity\"]\n",
    "total_ingresos = df[\"total_price\"].sum().round(2)\n"
   ]
  },
  {
   "cell_type": "markdown",
   "metadata": {},
   "source": [
    "# 2. ¿Cuál es el centro comercial que ha generado más ventas?\n",
    "Guarda el resultado en una variable llamada `centro_comercial_mas_ventas`\n"
   ]
  },
  {
   "cell_type": "code",
   "execution_count": 3,
   "metadata": {},
   "outputs": [],
   "source": [
    "ventas_por_centro_comercial_ = df.groupby(by = \"shopping_mall\")[\"quantity\"].sum() # numero de productos vendidos por centro comercial\n",
    "centro_comercial_mas_ventas = ventas_por_centro_comercial_.idxmax() # centro comercial que más productos ha vendido"
   ]
  },
  {
   "cell_type": "markdown",
   "metadata": {},
   "source": [
    "# 3. ¿Cuál es la categoría de producto que ha generado mas ventas? \n",
    "Guarda el resultado en una variable llamada `categoria_mas_vendida`\n"
   ]
  },
  {
   "cell_type": "code",
   "execution_count": 5,
   "metadata": {},
   "outputs": [],
   "source": [
    "ventas_por_categoria = df.groupby(by = \"category\")[\"quantity\"].sum() # numero de productos vendidos por categoria\n",
    "categoria_mas_vendida = ventas_por_categoria.idxmax() #categoria con mayor número de productos vendidos"
   ]
  },
  {
   "cell_type": "markdown",
   "metadata": {},
   "source": [
    "# 4. ¿Cuál es el producto más caro vendido?\n",
    "Guarda el resultado en una variable llamada `categoria_producto_mas_caro`\n",
    "\n"
   ]
  },
  {
   "cell_type": "code",
   "execution_count": 4,
   "metadata": {},
   "outputs": [],
   "source": [
    "factura_producto_mas_caro = df[\"price\"].idxmax() # factura con el producto con mayor precio\n",
    "categoria_producto_mas_caro = df.loc[factura_producto_mas_caro, \"category\"] # categoría de esa factura"
   ]
  },
  {
   "cell_type": "markdown",
   "metadata": {},
   "source": [
    "# 5. ¿Cuál es la factura más antigua registrada en el dataset?\n",
    "Guarda el resultado en una variable llamada `factura_mas_antigua`\n"
   ]
  },
  {
   "cell_type": "code",
   "execution_count": 6,
   "metadata": {},
   "outputs": [],
   "source": [
    "df[\"invoice_date\"] = pd.to_datetime(df[\"invoice_date\"], format = \"%d-%m-%Y\")\n",
    "\n",
    "factura_mas_antigua = df[\"invoice_date\"].idxmin()"
   ]
  },
  {
   "cell_type": "markdown",
   "metadata": {},
   "source": [
    "# 6. ¿Cuál es la cantidad promedio de productos vendidos por transacción?\n",
    "Guarda el resultado en una variable llamada `cantidad_promedio_por_transaccion`\n",
    "\n"
   ]
  },
  {
   "cell_type": "code",
   "execution_count": 7,
   "metadata": {},
   "outputs": [],
   "source": [
    "cantidad_promedio_por_transaccion = df[\"quantity\"].mean().round(2)"
   ]
  },
  {
   "cell_type": "markdown",
   "metadata": {},
   "source": [
    "# 7. ¿Cuál es el día con más ventas registradas?\n",
    "Guarda el resultado en una variable llamada `dia_con_mas_ventas`\n"
   ]
  },
  {
   "cell_type": "code",
   "execution_count": 39,
   "metadata": {},
   "outputs": [],
   "source": [
    "dia_con_mas_ventas = df[\"invoice_date\"].value_counts().idxmax()\n"
   ]
  },
  {
   "cell_type": "markdown",
   "metadata": {},
   "source": [
    "# 8. ¿Cuál es el cliente que más ha gastado en total?\n",
    "Guarda el resultado en una variable llamada `cliente_que_mas_gasto`\n"
   ]
  },
  {
   "cell_type": "code",
   "execution_count": 43,
   "metadata": {},
   "outputs": [],
   "source": [
    "gasto_por_cliente = df.groupby(by = \"customer_id\")[\"total_price\"].sum()\n",
    "cliente_que_mas_gasto = gasto_por_cliente.idxmax()"
   ]
  },
  {
   "cell_type": "markdown",
   "metadata": {},
   "source": [
    "# 9. ¿Cuál es la factura con el precio total más alto?\n",
    "Guarda el resultado en una variable llamada `factura_max_valor`\n"
   ]
  },
  {
   "cell_type": "code",
   "execution_count": 44,
   "metadata": {},
   "outputs": [],
   "source": [
    "factura_max_valor = df[\"total_price\"].idxmax()"
   ]
  },
  {
   "cell_type": "markdown",
   "metadata": {},
   "source": [
    "# 10. ¿Cuál es la distribución porcentual de ventas por categoría de producto?\n",
    "Guarda el resultado en una variable llamada `distribucion_porcentual_ventas_por_categoria`. El tipo de `distribucion_porcentual_ventas_por_categoria` debe ser `pandas.core.series.Series` donde las etiquetas deben ser las categorias y los valores deben ser la distribucion porcentual de las ventas por categoría\n"
   ]
  },
  {
   "cell_type": "code",
   "execution_count": 14,
   "metadata": {},
   "outputs": [],
   "source": [
    "numero_ventas = df[\"quantity\"].count()\n",
    "ventas_por_categoria = df[\"category\"].value_counts()\n",
    "distribucion_porcentual_ventas_por_categoria = (ventas_por_categoria/numero_ventas)* 100"
   ]
  },
  {
   "cell_type": "markdown",
   "metadata": {},
   "source": [
    "# 11. ¿Cuál es el día de la semana con más ventas registradas en cada centro comercial?\n",
    "Guarda el resultado en una variable llamada `dia_semana_mas_ventas_por_centro`. El tipo de `dia_semana_mas_ventas_por_centro` debe ser `pandas.core.series.Series` donde las etiquetas deben ser el nombre de los centros comerciales y los valores deben ser el nombre del dia de la semana con mas ventas."
   ]
  },
  {
   "cell_type": "code",
   "execution_count": 15,
   "metadata": {},
   "outputs": [],
   "source": [
    "df[\"day_of_week\"] = df[\"invoice_date\"].dt.day_name() # cambio la fecha por el dia de la semana"
   ]
  },
  {
   "cell_type": "code",
   "execution_count": 16,
   "metadata": {},
   "outputs": [],
   "source": [
    "compras_por_dia_de_la_semana_por_categoria = df.groupby(by = \"shopping_mall\")[\"day_of_week\"].value_counts() # creo una serie con multiindices"
   ]
  },
  {
   "cell_type": "code",
   "execution_count": 17,
   "metadata": {},
   "outputs": [],
   "source": [
    "dia_semana_mas_venta_por_centro = compras_por_dia_de_la_semana_por_categoria.groupby(by = \"shopping_mall\").idxmax().apply(lambda x : x[1])"
   ]
  }
 ],
 "metadata": {
  "kernelspec": {
   "display_name": "mi_entorno_sin_pandas",
   "language": "python",
   "name": "python3"
  },
  "language_info": {
   "codemirror_mode": {
    "name": "ipython",
    "version": 3
   },
   "file_extension": ".py",
   "mimetype": "text/x-python",
   "name": "python",
   "nbconvert_exporter": "python",
   "pygments_lexer": "ipython3",
   "version": "3.11.10"
  }
 },
 "nbformat": 4,
 "nbformat_minor": 2
}
